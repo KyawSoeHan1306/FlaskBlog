{
 "cells": [
  {
   "cell_type": "code",
   "execution_count": 2,
   "metadata": {},
   "outputs": [
    {
     "data": {
      "text/plain": [
       "[User('SOE', 'soe123@gmail.com', 'default.jpg'),\n",
       " User('HAN', 'shadowd750@gmail.com', 'default.jpg'),\n",
       " User('KYAW', 'kyawsoehan1306@gmail.com', '9814ccef3b62cc2a.jpg'),\n",
       " User('Htet', 'htetmaaloe444@gmail.com', 'cb98483a2aa047de.jpg'),\n",
       " User('HOLA', 'dgsdf123@gmail.com', 'default.jpg'),\n",
       " User('Blood', 'bloodzero750@gmail.com', 'default.jpg')]"
      ]
     },
     "execution_count": 2,
     "metadata": {},
     "output_type": "execute_result"
    }
   ],
   "source": [
    "from flaskblog.models import User, Post\n",
    "from flaskblog import app, db\n",
    "\n",
    "app.app_context().push()\n",
    "db.create_all()\n",
    "\n",
    "'''user_1 = User(username='Kyaw', email='gksnkvsn3523@gmail.com', password='123')\n",
    "db.session.add(user_1)\n",
    "\n",
    "user_2 = User(username='Soe', email='324fdsj@gmail.com', password='321')\n",
    "db.session.add(user_2)\n",
    "'''\n",
    "db.session.commit()\n",
    "\n",
    "User.query.all()"
   ]
  },
  {
   "cell_type": "code",
   "execution_count": 16,
   "metadata": {},
   "outputs": [
    {
     "data": {
      "text/plain": [
       "User('SOE', 'soe123@gmail.com', 'default.jpg')"
      ]
     },
     "execution_count": 16,
     "metadata": {},
     "output_type": "execute_result"
    }
   ],
   "source": [
    "User.query.first()"
   ]
  },
  {
   "cell_type": "code",
   "execution_count": 18,
   "metadata": {},
   "outputs": [
    {
     "data": {
      "text/plain": [
       "[User('SOE', 'soe123@gmail.com', 'default.jpg')]"
      ]
     },
     "execution_count": 18,
     "metadata": {},
     "output_type": "execute_result"
    }
   ],
   "source": [
    "User.query.filter_by(username='SOE').all()"
   ]
  },
  {
   "cell_type": "code",
   "execution_count": 40,
   "metadata": {},
   "outputs": [
    {
     "name": "stdout",
     "output_type": "stream",
     "text": [
      "User('KYAW', 'kyawsoehan1306@gmail.com', 'default.jpg')\n"
     ]
    }
   ],
   "source": [
    "user = User.query.filter_by(username='KYAW').first()\n",
    "print(user)"
   ]
  },
  {
   "cell_type": "code",
   "execution_count": 41,
   "metadata": {},
   "outputs": [
    {
     "data": {
      "text/plain": [
       "3"
      ]
     },
     "execution_count": 41,
     "metadata": {},
     "output_type": "execute_result"
    }
   ],
   "source": [
    "user.id"
   ]
  },
  {
   "cell_type": "code",
   "execution_count": 45,
   "metadata": {},
   "outputs": [
    {
     "name": "stderr",
     "output_type": "stream",
     "text": [
      "C:\\Users\\Kyaw Soe Han\\AppData\\Local\\Temp\\ipykernel_23412\\447610266.py:1: LegacyAPIWarning: The Query.get() method is considered legacy as of the 1.x series of SQLAlchemy and becomes a legacy construct in 2.0. The method is now available as Session.get() (deprecated since: 2.0) (Background on SQLAlchemy 2.0 at: https://sqlalche.me/e/b8d9)\n",
      "  user = User.query.get(3)\n"
     ]
    },
    {
     "data": {
      "text/plain": [
       "User('KYAW', 'kyawsoehan1306@gmail.com', 'default.jpg')"
      ]
     },
     "execution_count": 45,
     "metadata": {},
     "output_type": "execute_result"
    }
   ],
   "source": [
    "user = User.query.get(3)\n",
    "user"
   ]
  },
  {
   "cell_type": "code",
   "execution_count": 46,
   "metadata": {},
   "outputs": [
    {
     "data": {
      "text/plain": [
       "[]"
      ]
     },
     "execution_count": 46,
     "metadata": {},
     "output_type": "execute_result"
    }
   ],
   "source": [
    "user.posts"
   ]
  },
  {
   "cell_type": "code",
   "execution_count": 47,
   "metadata": {},
   "outputs": [
    {
     "data": {
      "text/plain": [
       "Post('Blog 1', 'None')"
      ]
     },
     "execution_count": 47,
     "metadata": {},
     "output_type": "execute_result"
    }
   ],
   "source": [
    "post_1 = Post(title='Blog 1', content='Great!!!', user_id=user.id)\n",
    "post_1"
   ]
  },
  {
   "cell_type": "code",
   "execution_count": 14,
   "metadata": {},
   "outputs": [
    {
     "data": {
      "text/plain": [
       "Post('Blog 2', 'None')"
      ]
     },
     "execution_count": 14,
     "metadata": {},
     "output_type": "execute_result"
    }
   ],
   "source": [
    "post_2 = Post(title='Blog 2', content='Bad!!!', user_id=user.id)\n",
    "post_2"
   ]
  },
  {
   "cell_type": "code",
   "execution_count": 15,
   "metadata": {},
   "outputs": [],
   "source": [
    "db.session.add(post_1)\n",
    "db.session.add(post_2)\n",
    "db.session.commit()"
   ]
  },
  {
   "cell_type": "code",
   "execution_count": 43,
   "metadata": {},
   "outputs": [
    {
     "data": {
      "text/plain": [
       "[]"
      ]
     },
     "execution_count": 43,
     "metadata": {},
     "output_type": "execute_result"
    }
   ],
   "source": [
    "user.posts"
   ]
  },
  {
   "cell_type": "code",
   "execution_count": 38,
   "metadata": {},
   "outputs": [],
   "source": [
    "for post in user.posts:\n",
    "    print(post.title)"
   ]
  },
  {
   "cell_type": "code",
   "execution_count": 23,
   "metadata": {},
   "outputs": [
    {
     "data": {
      "text/plain": [
       "Post('Blog 1', '2025-01-29 19:16:27.508546')"
      ]
     },
     "execution_count": 23,
     "metadata": {},
     "output_type": "execute_result"
    }
   ],
   "source": [
    "post = Post.query.first()\n",
    "post"
   ]
  },
  {
   "cell_type": "code",
   "execution_count": 24,
   "metadata": {},
   "outputs": [
    {
     "data": {
      "text/plain": [
       "2"
      ]
     },
     "execution_count": 24,
     "metadata": {},
     "output_type": "execute_result"
    }
   ],
   "source": [
    "post.user_id"
   ]
  },
  {
   "cell_type": "code",
   "execution_count": 44,
   "metadata": {},
   "outputs": [
    {
     "ename": "NameError",
     "evalue": "name 'post' is not defined",
     "output_type": "error",
     "traceback": [
      "\u001b[1;31m---------------------------------------------------------------------------\u001b[0m",
      "\u001b[1;31mNameError\u001b[0m                                 Traceback (most recent call last)",
      "Cell \u001b[1;32mIn[44], line 1\u001b[0m\n\u001b[1;32m----> 1\u001b[0m \u001b[43mpost\u001b[49m\u001b[38;5;241m.\u001b[39mauthor\n",
      "\u001b[1;31mNameError\u001b[0m: name 'post' is not defined"
     ]
    }
   ],
   "source": [
    "post.author"
   ]
  },
  {
   "cell_type": "code",
   "execution_count": 13,
   "metadata": {},
   "outputs": [],
   "source": [
    "db.drop_all()"
   ]
  },
  {
   "cell_type": "code",
   "execution_count": 14,
   "metadata": {},
   "outputs": [],
   "source": [
    "db.create_all()"
   ]
  },
  {
   "cell_type": "code",
   "execution_count": 36,
   "metadata": {},
   "outputs": [
    {
     "data": {
      "text/plain": [
       "[User('SOE', 'soe123@gmail.com', 'default.jpg'),\n",
       " User('HAN', 'shadowd750@gmail.com', 'default.jpg'),\n",
       " User('KYAW', 'kyawsoehan1306@gmail.com', 'default.jpg')]"
      ]
     },
     "execution_count": 36,
     "metadata": {},
     "output_type": "execute_result"
    }
   ],
   "source": [
    "User.query.all()"
   ]
  },
  {
   "cell_type": "code",
   "execution_count": 37,
   "metadata": {},
   "outputs": [
    {
     "data": {
      "text/plain": [
       "[]"
      ]
     },
     "execution_count": 37,
     "metadata": {},
     "output_type": "execute_result"
    }
   ],
   "source": [
    "Post.query.all()"
   ]
  },
  {
   "cell_type": "code",
   "execution_count": 2,
   "metadata": {},
   "outputs": [
    {
     "name": "stdout",
     "output_type": "stream",
     "text": [
      "Post('Today News Update', '2025-02-07 23:25:09.293459')\n",
      "Post('My Feelings', '2025-02-07 23:45:27.455861')\n"
     ]
    }
   ],
   "source": [
    "from flaskblog.models import Post\n",
    "from flaskblog import app\n",
    "\n",
    "app.app_context().push()\n",
    "\n",
    "posts = Post.query.all()\n",
    "for post in posts:\n",
    "    print(post)"
   ]
  },
  {
   "cell_type": "code",
   "execution_count": 5,
   "metadata": {},
   "outputs": [
    {
     "data": {
      "text/plain": [
       "<flask_sqlalchemy.pagination.QueryPagination at 0x19597e46550>"
      ]
     },
     "execution_count": 5,
     "metadata": {},
     "output_type": "execute_result"
    }
   ],
   "source": [
    "posts = Post.query.paginate()\n",
    "posts"
   ]
  },
  {
   "cell_type": "code",
   "execution_count": 6,
   "metadata": {},
   "outputs": [
    {
     "data": {
      "text/plain": [
       "['__class__',\n",
       " '__delattr__',\n",
       " '__dict__',\n",
       " '__dir__',\n",
       " '__doc__',\n",
       " '__eq__',\n",
       " '__format__',\n",
       " '__ge__',\n",
       " '__getattribute__',\n",
       " '__gt__',\n",
       " '__hash__',\n",
       " '__init__',\n",
       " '__init_subclass__',\n",
       " '__iter__',\n",
       " '__le__',\n",
       " '__lt__',\n",
       " '__module__',\n",
       " '__ne__',\n",
       " '__new__',\n",
       " '__reduce__',\n",
       " '__reduce_ex__',\n",
       " '__repr__',\n",
       " '__setattr__',\n",
       " '__sizeof__',\n",
       " '__str__',\n",
       " '__subclasshook__',\n",
       " '__weakref__',\n",
       " '_prepare_page_args',\n",
       " '_query_args',\n",
       " '_query_count',\n",
       " '_query_items',\n",
       " '_query_offset',\n",
       " 'first',\n",
       " 'has_next',\n",
       " 'has_prev',\n",
       " 'items',\n",
       " 'iter_pages',\n",
       " 'last',\n",
       " 'max_per_page',\n",
       " 'next',\n",
       " 'next_num',\n",
       " 'page',\n",
       " 'pages',\n",
       " 'per_page',\n",
       " 'prev',\n",
       " 'prev_num',\n",
       " 'total']"
      ]
     },
     "execution_count": 6,
     "metadata": {},
     "output_type": "execute_result"
    }
   ],
   "source": [
    "dir(posts)"
   ]
  },
  {
   "cell_type": "code",
   "execution_count": 7,
   "metadata": {},
   "outputs": [
    {
     "data": {
      "text/plain": [
       "20"
      ]
     },
     "execution_count": 7,
     "metadata": {},
     "output_type": "execute_result"
    }
   ],
   "source": [
    "posts.per_page"
   ]
  },
  {
   "cell_type": "code",
   "execution_count": 8,
   "metadata": {},
   "outputs": [
    {
     "data": {
      "text/plain": [
       "1"
      ]
     },
     "execution_count": 8,
     "metadata": {},
     "output_type": "execute_result"
    }
   ],
   "source": [
    "posts.page"
   ]
  },
  {
   "cell_type": "code",
   "execution_count": 9,
   "metadata": {},
   "outputs": [
    {
     "name": "stdout",
     "output_type": "stream",
     "text": [
      "Post('Today News Update', '2025-02-07 23:25:09.293459')\n",
      "Post('My Feelings', '2025-02-07 23:45:27.455861')\n"
     ]
    }
   ],
   "source": [
    "for post in posts.items:\n",
    "    print(post)"
   ]
  },
  {
   "cell_type": "code",
   "execution_count": 15,
   "metadata": {},
   "outputs": [
    {
     "name": "stdout",
     "output_type": "stream",
     "text": [
      "Post('Today News Update', '2025-02-07 23:25:09.293459')\n",
      "Post('My Feelings', '2025-02-07 23:45:27.455861')\n"
     ]
    }
   ],
   "source": [
    "posts = Post.query.paginate(per_page=5)\n",
    "for post in posts.items:\n",
    "    print(post)"
   ]
  },
  {
   "cell_type": "code",
   "execution_count": 16,
   "metadata": {},
   "outputs": [
    {
     "data": {
      "text/plain": [
       "2"
      ]
     },
     "execution_count": 16,
     "metadata": {},
     "output_type": "execute_result"
    }
   ],
   "source": [
    "posts.total"
   ]
  },
  {
   "cell_type": "code",
   "execution_count": 19,
   "metadata": {},
   "outputs": [
    {
     "name": "stdout",
     "output_type": "stream",
     "text": [
      "1\n",
      "2\n",
      "3\n"
     ]
    }
   ],
   "source": [
    "posts = Post.query.paginate(page=1, per_page=2)\n",
    "for page in posts.iter_pages():\n",
    "    print(page)"
   ]
  },
  {
   "cell_type": "code",
   "execution_count": 4,
   "metadata": {},
   "outputs": [
    {
     "name": "stdout",
     "output_type": "stream",
     "text": [
      "Requirement already satisfied: itsdangerous in c:\\users\\kyaw soe han\\.conda\\envs\\hr_env\\lib\\site-packages (2.2.0)Note: you may need to restart the kernel to use updated packages.\n",
      "\n"
     ]
    }
   ],
   "source": [
    "%pip install itsdangerous"
   ]
  },
  {
   "cell_type": "code",
   "execution_count": 13,
   "metadata": {},
   "outputs": [
    {
     "data": {
      "text/plain": [
       "'eyJ1c2VyX2lkIjoiMSJ9.Z6jwMw.5JvjroaY16fy1nnUjLu3csvgm4M'"
      ]
     },
     "execution_count": 13,
     "metadata": {},
     "output_type": "execute_result"
    }
   ],
   "source": [
    "from itsdangerous import URLSafeTimedSerializer as Serializer\n",
    "s = Serializer('secret-key')\n",
    "token = s.dumps({'user_id':\"1\"})\n",
    "token"
   ]
  },
  {
   "cell_type": "code",
   "execution_count": 16,
   "metadata": {},
   "outputs": [
    {
     "ename": "SignatureExpired",
     "evalue": "Signature age 66 > 30 seconds",
     "output_type": "error",
     "traceback": [
      "\u001b[1;31m---------------------------------------------------------------------------\u001b[0m",
      "\u001b[1;31mSignatureExpired\u001b[0m                          Traceback (most recent call last)",
      "Cell \u001b[1;32mIn[16], line 1\u001b[0m\n\u001b[1;32m----> 1\u001b[0m \u001b[43ms\u001b[49m\u001b[38;5;241;43m.\u001b[39;49m\u001b[43mloads\u001b[49m\u001b[43m(\u001b[49m\u001b[43mtoken\u001b[49m\u001b[43m,\u001b[49m\u001b[43m \u001b[49m\u001b[43mmax_age\u001b[49m\u001b[38;5;241;43m=\u001b[39;49m\u001b[38;5;241;43m30\u001b[39;49m\u001b[43m)\u001b[49m\n",
      "File \u001b[1;32mc:\\Users\\Kyaw Soe Han\\.conda\\envs\\flask_env\\lib\\site-packages\\itsdangerous\\timed.py:204\u001b[0m, in \u001b[0;36mTimedSerializer.loads\u001b[1;34m(self, s, max_age, return_timestamp, salt)\u001b[0m\n\u001b[0;32m    202\u001b[0m \u001b[38;5;28;01mfor\u001b[39;00m signer \u001b[38;5;129;01min\u001b[39;00m \u001b[38;5;28mself\u001b[39m\u001b[38;5;241m.\u001b[39miter_unsigners(salt):\n\u001b[0;32m    203\u001b[0m     \u001b[38;5;28;01mtry\u001b[39;00m:\n\u001b[1;32m--> 204\u001b[0m         base64d, timestamp \u001b[38;5;241m=\u001b[39m \u001b[43msigner\u001b[49m\u001b[38;5;241;43m.\u001b[39;49m\u001b[43munsign\u001b[49m\u001b[43m(\u001b[49m\n\u001b[0;32m    205\u001b[0m \u001b[43m            \u001b[49m\u001b[43ms\u001b[49m\u001b[43m,\u001b[49m\u001b[43m \u001b[49m\u001b[43mmax_age\u001b[49m\u001b[38;5;241;43m=\u001b[39;49m\u001b[43mmax_age\u001b[49m\u001b[43m,\u001b[49m\u001b[43m \u001b[49m\u001b[43mreturn_timestamp\u001b[49m\u001b[38;5;241;43m=\u001b[39;49m\u001b[38;5;28;43;01mTrue\u001b[39;49;00m\n\u001b[0;32m    206\u001b[0m \u001b[43m        \u001b[49m\u001b[43m)\u001b[49m\n\u001b[0;32m    207\u001b[0m         payload \u001b[38;5;241m=\u001b[39m \u001b[38;5;28mself\u001b[39m\u001b[38;5;241m.\u001b[39mload_payload(base64d)\n\u001b[0;32m    209\u001b[0m         \u001b[38;5;28;01mif\u001b[39;00m return_timestamp:\n",
      "File \u001b[1;32mc:\\Users\\Kyaw Soe Han\\.conda\\envs\\flask_env\\lib\\site-packages\\itsdangerous\\timed.py:142\u001b[0m, in \u001b[0;36mTimestampSigner.unsign\u001b[1;34m(self, signed_value, max_age, return_timestamp)\u001b[0m\n\u001b[0;32m    139\u001b[0m age \u001b[38;5;241m=\u001b[39m \u001b[38;5;28mself\u001b[39m\u001b[38;5;241m.\u001b[39mget_timestamp() \u001b[38;5;241m-\u001b[39m ts_int\n\u001b[0;32m    141\u001b[0m \u001b[38;5;28;01mif\u001b[39;00m age \u001b[38;5;241m>\u001b[39m max_age:\n\u001b[1;32m--> 142\u001b[0m     \u001b[38;5;28;01mraise\u001b[39;00m SignatureExpired(\n\u001b[0;32m    143\u001b[0m         \u001b[38;5;124mf\u001b[39m\u001b[38;5;124m\"\u001b[39m\u001b[38;5;124mSignature age \u001b[39m\u001b[38;5;132;01m{\u001b[39;00mage\u001b[38;5;132;01m}\u001b[39;00m\u001b[38;5;124m > \u001b[39m\u001b[38;5;132;01m{\u001b[39;00mmax_age\u001b[38;5;132;01m}\u001b[39;00m\u001b[38;5;124m seconds\u001b[39m\u001b[38;5;124m\"\u001b[39m,\n\u001b[0;32m    144\u001b[0m         payload\u001b[38;5;241m=\u001b[39mvalue,\n\u001b[0;32m    145\u001b[0m         date_signed\u001b[38;5;241m=\u001b[39m\u001b[38;5;28mself\u001b[39m\u001b[38;5;241m.\u001b[39mtimestamp_to_datetime(ts_int),\n\u001b[0;32m    146\u001b[0m     )\n\u001b[0;32m    148\u001b[0m \u001b[38;5;28;01mif\u001b[39;00m age \u001b[38;5;241m<\u001b[39m \u001b[38;5;241m0\u001b[39m:\n\u001b[0;32m    149\u001b[0m     \u001b[38;5;28;01mraise\u001b[39;00m SignatureExpired(\n\u001b[0;32m    150\u001b[0m         \u001b[38;5;124mf\u001b[39m\u001b[38;5;124m\"\u001b[39m\u001b[38;5;124mSignature age \u001b[39m\u001b[38;5;132;01m{\u001b[39;00mage\u001b[38;5;132;01m}\u001b[39;00m\u001b[38;5;124m < 0 seconds\u001b[39m\u001b[38;5;124m\"\u001b[39m,\n\u001b[0;32m    151\u001b[0m         payload\u001b[38;5;241m=\u001b[39mvalue,\n\u001b[0;32m    152\u001b[0m         date_signed\u001b[38;5;241m=\u001b[39m\u001b[38;5;28mself\u001b[39m\u001b[38;5;241m.\u001b[39mtimestamp_to_datetime(ts_int),\n\u001b[0;32m    153\u001b[0m     )\n",
      "\u001b[1;31mSignatureExpired\u001b[0m: Signature age 66 > 30 seconds"
     ]
    }
   ],
   "source": [
    "s.loads(token, max_age=30)"
   ]
  },
  {
   "cell_type": "code",
   "execution_count": 2,
   "metadata": {},
   "outputs": [
    {
     "name": "stdout",
     "output_type": "stream",
     "text": [
      "EMAIL_USER: kyawsoehan1306@gmail.com\n",
      "EMAIL_PASS: zflp avuw sznu gmvo\n"
     ]
    }
   ],
   "source": [
    "import os\n",
    "\n",
    "EMAIL_USER = os.environ.get('EMAIL_USER')\n",
    "EMAIL_PASS = os.environ.get('EMAIL_PASS')\n",
    "\n",
    "print(\"EMAIL_USER:\", EMAIL_USER)  # Should print your email\n",
    "print(\"EMAIL_PASS:\", EMAIL_PASS)"
   ]
  },
  {
   "cell_type": "code",
   "execution_count": 3,
   "metadata": {},
   "outputs": [
    {
     "name": "stdout",
     "output_type": "stream",
     "text": [
      "kyawsoehan1306@gmail.com zflp avuw sznu gmvo\n"
     ]
    }
   ],
   "source": [
    "from dotenv import load_dotenv\n",
    "import os\n",
    "\n",
    "load_dotenv()\n",
    "\n",
    "EMAIL_USER = os.getenv('EMAIL_USER')\n",
    "EMAIL_PASS = os.getenv('EMAIL_PASS')\n",
    "\n",
    "print(EMAIL_USER, EMAIL_PASS)"
   ]
  },
  {
   "cell_type": "code",
   "execution_count": null,
   "metadata": {},
   "outputs": [],
   "source": []
  }
 ],
 "metadata": {
  "kernelspec": {
   "display_name": "Python 3",
   "language": "python",
   "name": "python3"
  },
  "language_info": {
   "codemirror_mode": {
    "name": "ipython",
    "version": 3
   },
   "file_extension": ".py",
   "mimetype": "text/x-python",
   "name": "python",
   "nbconvert_exporter": "python",
   "pygments_lexer": "ipython3",
   "version": "3.8.20"
  }
 },
 "nbformat": 4,
 "nbformat_minor": 2
}
